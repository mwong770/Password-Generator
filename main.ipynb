{
 "cells": [
  {
   "cell_type": "code",
   "execution_count": 1,
   "metadata": {},
   "outputs": [],
   "source": [
    "import os\n",
    "import json\n",
    "import zipfile\n",
    "import string\n",
    "import pandas as pd\n",
    "import passwordmeter as meter\n",
    "import secrets"
   ]
  },
  {
   "cell_type": "code",
   "execution_count": 2,
   "metadata": {},
   "outputs": [],
   "source": [
    "# tests password strength from 0 (weak) to 1 (strong)\n",
    "def check_strength(pw):\n",
    "    strength, improvements = meter.test(pw)\n",
    "    return strength"
   ]
  },
  {
   "cell_type": "markdown",
   "metadata": {},
   "source": [
    "### EASIER TO REMEMBER"
   ]
  },
  {
   "cell_type": "code",
   "execution_count": 3,
   "metadata": {},
   "outputs": [],
   "source": [
    "# unzip directory\n",
    "zipfileReference = zipfile.ZipFile('WordList.zip').extractall()\n",
    "\n",
    "# path to extracted directory\n",
    "wordListDir = os.path.join('WordList')"
   ]
  },
  {
   "cell_type": "code",
   "execution_count": 4,
   "metadata": {},
   "outputs": [],
   "source": [
    "# combine words in files into a single list\n",
    "words = []\n",
    "for root, subdirs, files in os.walk(wordListDir):\n",
    "    for file in files: \n",
    "        filePath = os.path.join(root, file)\n",
    "        with open(filePath) as text:\n",
    "            wordsList = text.read().split('\\n')\n",
    "            for word in wordsList:\n",
    "                words.append(word)"
   ]
  },
  {
   "cell_type": "code",
   "execution_count": 5,
   "metadata": {},
   "outputs": [],
   "source": [
    "df = pd.DataFrame({'Password': '',\n",
    "                 'Strength': ''}, index=[0])\n",
    "def easier():\n",
    "    global count    \n",
    "    while count < 5:\n",
    "        word1 = secrets.choice(words).title()\n",
    "        word2= secrets.choice(words).title()\n",
    "        symbol = secrets.choice(['$', '%', '^', '&', '*', '?', '!', '@', '/', '#', '!', '@'])\n",
    "        num = secrets.choice(string.digits)\n",
    "        password = word1 + num + word2 + symbol\n",
    "        strength = check_strength(password)\n",
    "        if (strength < 0.8):\n",
    "            try:\n",
    "                easier()\n",
    "            except RecursionError:\n",
    "                print('\\nSorry there was an error. Try again.')\n",
    "                select_algorithm()\n",
    "                break\n",
    "        else:\n",
    "            df.loc[count, 'Password'] = password\n",
    "            df.loc[count,'Strength'] = strength\n",
    "            count += 1\n",
    "            if count == 5:\n",
    "                print(df.sort_values(by=['Strength'], ascending=False).reset_index(drop=True))"
   ]
  },
  {
   "cell_type": "markdown",
   "metadata": {},
   "source": [
    "### CHALLENGE"
   ]
  },
  {
   "cell_type": "code",
   "execution_count": 6,
   "metadata": {},
   "outputs": [],
   "source": [
    "def challenge():\n",
    "    symbol = '$%^&*?!@/#!@'\n",
    "    password = ''\n",
    "    for i in range(8):\n",
    "        password += secrets.choice(string.ascii_letters + string.digits + symbol)\n",
    "    strength = check_strength(password)\n",
    "    if strength < 0.9:\n",
    "        try:\n",
    "            challenge()\n",
    "        except RecursionError:\n",
    "            print('\\nSorry there was an error. Try again.')\n",
    "            select_algorithm()\n",
    "    else:\n",
    "        print(f'\\nPassword Strength: {strength}.\\n')\n",
    "        print(f'Password: {password}')    "
   ]
  },
  {
   "cell_type": "markdown",
   "metadata": {},
   "source": [
    "### USER IMPUT"
   ]
  },
  {
   "cell_type": "code",
   "execution_count": 7,
   "metadata": {},
   "outputs": [
    {
     "name": "stdout",
     "output_type": "stream",
     "text": [
      "Would you like a password that is easier to remember (e) or would you like a challenge (c)?e\n",
      "                  Password  Strength\n",
      "0    Geography5Visibility%  0.841496\n",
      "1     Instances3September%  0.839425\n",
      "2   Encouraging9Purchased%  0.824465\n",
      "3    Generator2Activation%  0.820096\n",
      "4  Establishing0Assembled#  0.809808\n"
     ]
    }
   ],
   "source": [
    "def select_algorithm():\n",
    "    user_selection = input('Would you like a password that is easier to remember (e) or would you like a challenge (c)?')\n",
    "\n",
    "    if user_selection.lower() == 'e':\n",
    "        global count\n",
    "        count = 0\n",
    "        easier()\n",
    "    elif user_selection.lower() == 'c':\n",
    "        challenge()\n",
    "    else:\n",
    "        print('\\nYOU MUST SELECT \"e\" OR \"c\".')\n",
    "        select_algorithm()\n",
    "        \n",
    "select_algorithm()"
   ]
  },
  {
   "cell_type": "markdown",
   "metadata": {},
   "source": [
    "### DOCUMENTATION"
   ]
  },
  {
   "cell_type": "markdown",
   "metadata": {},
   "source": [
    "Password Meter\n",
    "* https://pypi.org/project/passwordmeter/"
   ]
  }
 ],
 "metadata": {
  "kernelspec": {
   "display_name": "Python 3",
   "language": "python",
   "name": "python3"
  },
  "language_info": {
   "codemirror_mode": {
    "name": "ipython",
    "version": 3
   },
   "file_extension": ".py",
   "mimetype": "text/x-python",
   "name": "python",
   "nbconvert_exporter": "python",
   "pygments_lexer": "ipython3",
   "version": "3.6.5"
  }
 },
 "nbformat": 4,
 "nbformat_minor": 2
}
